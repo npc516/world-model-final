{
 "cells": [
  {
   "cell_type": "markdown",
   "metadata": {},
   "source": [
    "# CarRacing-v0"
   ]
  },
  {
   "cell_type": "code",
   "execution_count": 1,
   "metadata": {},
   "outputs": [
    {
     "data": {
      "text/plain": [
       "\"\\nimport numpy as np\\nimport os\\nimport json\\nimport tensorflow as tf\\nimport random\\nfrom vae.vae import CVAE\\nfrom controller import make_controller\\nfrom env import make_env\\nfrom utils import PARSER\\nargs = PARSER.parse_args(['--config_path', 'configs/carracing.config'])\\n\""
      ]
     },
     "execution_count": 1,
     "metadata": {},
     "output_type": "execute_result"
    }
   ],
   "source": [
    "\n",
    "import numpy as np\n",
    "import os\n",
    "import json\n",
    "import tensorflow as tf\n",
    "import random\n",
    "from vae.vae import CVAE\n",
    "from controller import make_controller\n",
    "from env import make_env\n",
    "from utils import PARSER\n",
    "args = PARSER.parse_args(['--config_path', 'configs/carracing.config'])\n"
   ]
  },
  {
   "cell_type": "code",
   "execution_count": 2,
   "metadata": {},
   "outputs": [],
   "source": [
    "import matplotlib.pyplot as plt\n",
    "import matplotlib.animation\n",
    "%matplotlib inline\n",
    "np.set_printoptions(precision=4, edgeitems=6, linewidth=100, suppress=True)"
   ]
  },
  {
   "cell_type": "code",
   "execution_count": 2,
   "metadata": {},
   "outputs": [
    {
     "data": {
      "text/plain": [
       "'\\nos.environ[\"CUDA_VISIBLE_DEVICES\"]=\"-1\" # disable GPU\\n\\nDATA_DIR = \"results/{}/{}/record\".format(args.exp_name, args.env_name)\\nmodel_path_name = \"results/{}/{}/tf_vae\".format(args.exp_name, args.env_name)\\n'"
      ]
     },
     "execution_count": 2,
     "metadata": {},
     "output_type": "execute_result"
    }
   ],
   "source": [
    "os.environ[\"CUDA_VISIBLE_DEVICES\"]=\"-1\" # disable GPU\n",
    "\n",
    "DATA_DIR = \"results/{}/{}/record\".format(args.exp_name, args.env_name)\n",
    "model_path_name = \"results/{}/{}/tf_vae\".format(args.exp_name, args.env_name)"
   ]
  },
  {
   "cell_type": "code",
   "execution_count": 4,
   "metadata": {},
   "outputs": [],
   "source": [
    "filelist = os.listdir(DATA_DIR)"
   ]
  },
  {
   "cell_type": "code",
   "execution_count": 5,
   "metadata": {},
   "outputs": [],
   "source": [
    "obs = np.load(os.path.join(DATA_DIR, random.choice(filelist)))[\"obs\"]\n",
    "obs = obs.astype(np.float32)/255.0"
   ]
  },
  {
   "cell_type": "code",
   "execution_count": 6,
   "metadata": {},
   "outputs": [
    {
     "data": {
      "text/plain": [
       "(1000, 64, 64, 3)"
      ]
     },
     "execution_count": 6,
     "metadata": {},
     "output_type": "execute_result"
    }
   ],
   "source": [
    "obs.shape"
   ]
  },
  {
   "cell_type": "code",
   "execution_count": 7,
   "metadata": {},
   "outputs": [],
   "source": [
    "frame = random.choice(obs).reshape(1, 64, 64, 3)"
   ]
  },
  {
   "cell_type": "code",
   "execution_count": 8,
   "metadata": {},
   "outputs": [
    {
     "name": "stdout",
     "output_type": "stream",
     "text": [
      "WARNING:tensorflow:Inconsistent references when loading the checkpoint into this object graph. Either the Trackable object references in the Python program have changed in an incompatible way, or the checkpoint was generated in an incompatible program.\n",
      "\n",
      "Two checkpoint references resolved to different objects (<tensorflow.python.keras.layers.convolutional.Conv2D object at 0x7f38d46e60f0> and <tensorflow.python.keras.layers.convolutional.Conv2D object at 0x7f38d46e69b0>).\n",
      "WARNING:tensorflow:Inconsistent references when loading the checkpoint into this object graph. Either the Trackable object references in the Python program have changed in an incompatible way, or the checkpoint was generated in an incompatible program.\n",
      "\n",
      "Two checkpoint references resolved to different objects (<tensorflow.python.keras.layers.convolutional.Conv2D object at 0x7f38d46e69b0> and <tensorflow.python.keras.layers.convolutional.Conv2D object at 0x7f38d46e72b0>).\n",
      "WARNING:tensorflow:Inconsistent references when loading the checkpoint into this object graph. Either the Trackable object references in the Python program have changed in an incompatible way, or the checkpoint was generated in an incompatible program.\n",
      "\n",
      "Two checkpoint references resolved to different objects (<tensorflow.python.keras.layers.convolutional.Conv2D object at 0x7f38d46e72b0> and <tensorflow.python.keras.layers.convolutional.Conv2D object at 0x7f38d46e7b70>).\n",
      "WARNING:tensorflow:Inconsistent references when loading the checkpoint into this object graph. Either the Trackable object references in the Python program have changed in an incompatible way, or the checkpoint was generated in an incompatible program.\n",
      "\n",
      "Two checkpoint references resolved to different objects (<tensorflow.python.keras.layers.convolutional.Conv2D object at 0x7f38d46e7b70> and <tensorflow.python.keras.layers.core.Flatten object at 0x7f38d46f42e8>).\n",
      "WARNING:tensorflow:Inconsistent references when loading the checkpoint into this object graph. Either the Trackable object references in the Python program have changed in an incompatible way, or the checkpoint was generated in an incompatible program.\n",
      "\n",
      "Two checkpoint references resolved to different objects (<tensorflow.python.keras.layers.core.Dense object at 0x7f38d4685278> and <tensorflow.python.keras.layers.core.Reshape object at 0x7f38d46858d0>).\n",
      "WARNING:tensorflow:Inconsistent references when loading the checkpoint into this object graph. Either the Trackable object references in the Python program have changed in an incompatible way, or the checkpoint was generated in an incompatible program.\n",
      "\n",
      "Two checkpoint references resolved to different objects (<tensorflow.python.keras.layers.convolutional.Conv2DTranspose object at 0x7f38d4685e10> and <tensorflow.python.keras.layers.convolutional.Conv2DTranspose object at 0x7f38d468e630>).\n",
      "WARNING:tensorflow:Inconsistent references when loading the checkpoint into this object graph. Either the Trackable object references in the Python program have changed in an incompatible way, or the checkpoint was generated in an incompatible program.\n",
      "\n",
      "Two checkpoint references resolved to different objects (<tensorflow.python.keras.layers.convolutional.Conv2DTranspose object at 0x7f38d468e630> and <tensorflow.python.keras.layers.convolutional.Conv2DTranspose object at 0x7f38d468ee10>).\n",
      "WARNING:tensorflow:Inconsistent references when loading the checkpoint into this object graph. Either the Trackable object references in the Python program have changed in an incompatible way, or the checkpoint was generated in an incompatible program.\n",
      "\n",
      "Two checkpoint references resolved to different objects (<tensorflow.python.keras.layers.convolutional.Conv2DTranspose object at 0x7f38d468ee10> and <tensorflow.python.keras.layers.convolutional.Conv2DTranspose object at 0x7f38d4695630>).\n",
      "WARNING:tensorflow:Inconsistent references when loading the checkpoint into this object graph. Either the Trackable object references in the Python program have changed in an incompatible way, or the checkpoint was generated in an incompatible program.\n",
      "\n",
      "Two checkpoint references resolved to different objects (<tensorflow.python.keras.layers.convolutional.Conv2DTranspose object at 0x7f38d4685e10> and <tensorflow.python.keras.layers.core.Reshape object at 0x7f38d46858d0>).\n"
     ]
    }
   ],
   "source": [
    "vae = CVAE(args)\n",
    "\n",
    "vae.set_weights(tf.keras.models.load_model(model_path_name, compile=False).get_weights())"
   ]
  },
  {
   "cell_type": "code",
   "execution_count": 9,
   "metadata": {},
   "outputs": [
    {
     "data": {
      "image/png": "[encoded data removed]",
      "text/plain": [
       "<Figure size 432x288 with 1 Axes>"
      ]
     },
     "metadata": {
      "needs_background": "light"
     },
     "output_type": "display_data"
    }
   ],
   "source": [
    "%matplotlib inline\n",
    "# show recorded frame that will be fed into the input of VAE\n",
    "plt.imshow(frame[0])\n",
    "plt.show()"
   ]
  },
  {
   "cell_type": "code",
   "execution_count": 10,
   "metadata": {},
   "outputs": [
    {
     "name": "stdout",
     "output_type": "stream",
     "text": [
      "tf.Tensor(\n",
      "[-0.9023 -0.9123 -0.9169  0.7933  1.3577  0.1943  0.2253 -0.5697  0.0416  0.599   0.7793 -0.1118\n",
      " -1.6946  0.7159 -0.9858 -2.6844 -1.0058 -1.2467  1.33   -0.1116 -0.2918  0.5277 -1.2953 -1.15\n",
      " -0.1244 -0.2129 -0.0197 -1.0873 -0.1521 -0.3736  1.1225  0.6234], shape=(32,), dtype=float32)\n"
     ]
    }
   ],
   "source": [
    "batch_z = vae.encode(frame)\n",
    "print(batch_z[0]) # print out sampled z\n",
    "reconstruct = vae.decode(batch_z)"
   ]
  },
  {
   "cell_type": "code",
   "execution_count": 11,
   "metadata": {},
   "outputs": [
    {
     "data": {
      "image/png": "[encoded data removed]",
      "text/plain": [
       "<Figure size 432x288 with 1 Axes>"
      ]
     },
     "metadata": {
      "needs_background": "light"
     },
     "output_type": "display_data"
    }
   ],
   "source": [
    "%matplotlib inline\n",
    "# show reconstruction\n",
    "plt.imshow(reconstruct[0])\n",
    "plt.show()"
   ]
  },
  {
   "cell_type": "markdown",
   "metadata": {},
   "source": [
    "## Dream Samples"
   ]
  },
  {
   "cell_type": "code",
   "execution_count": 12,
   "metadata": {},
   "outputs": [
    {
     "data": {
      "image/png": "[encoded data removed]",
      "text/plain": [
       "<Figure size 432x288 with 1 Axes>"
      ]
     },
     "metadata": {
      "needs_background": "light"
     },
     "output_type": "display_data"
    }
   ],
   "source": [
    "%matplotlib inline\n",
    "batch_z = tf.random.normal((1, args.z_size)).numpy()\n",
    "reconstruct = vae.decode(batch_z)\n",
    "# show reconstruction\n",
    "plt.imshow(reconstruct[0])\n",
    "plt.show()"
   ]
  },
  {
   "cell_type": "markdown",
   "metadata": {},
   "source": [
    "## Driving in true environment\n",
    "visualize what the agent sees when driving in the true environment"
   ]
  },
  {
   "cell_type": "code",
   "execution_count": 2,
   "metadata": {},
   "outputs": [],
   "source": [
    "#c = make_controller(args)\n",
    "#c.load_model('results/{}/{}/log/{}.cma.16.64.json'.format(args.exp_name, args.env_name, args.env_name))\n",
    "#true_env = make_env(args, dream_env=False, with_obs=True)\n",
    "#reconstruct_episode, true_episode, true_r, true_total_r = sim(c, true_env, vae, is_true_env=True, z_size=args.z_size, max_ep_len=args.max_frames)\n",
    "#true_env.close()"
   ]
  },
  {
   "cell_type": "code",
   "execution_count": 3,
   "metadata": {
    "scrolled": true
   },
   "outputs": [
    {
     "data": {
      "text/plain": [
       "\"\\n%matplotlib notebook\\n%matplotlib notebook\\n%matplotlib notebook\\n%matplotlib notebook\\n# stupid jupyter bug, just keep copy pasting until it works\\n\\nimport matplotlib.pyplot as plt\\nimport numpy as np\\nimport matplotlib.animation\\n\\nf = plt.figure()\\nax = f.gca()\\n\\nimage = plt.imshow(true_episode[0].numpy(), interpolation='None', animated=True)\\n\\ndef function_for_animation(frame_index):\\n    image.set_data(reconstruct_episode[frame_index+1].numpy())\\n    ax.set_title('frame: {}, r: {:.2f}, total reward: {:.2f}'.format(frame_index, true_r[frame_index+1], true_total_r[frame_index+1]))\\n    return image,\\n\\nani = matplotlib.animation.FuncAnimation(f, function_for_animation, interval=40, frames=len(true_episode), blit=True)\\n\""
      ]
     },
     "execution_count": 3,
     "metadata": {},
     "output_type": "execute_result"
    }
   ],
   "source": [
    "'''\n",
    "%matplotlib notebook\n",
    "%matplotlib notebook\n",
    "%matplotlib notebook\n",
    "%matplotlib notebook\n",
    "# stupid jupyter bug, just keep copy pasting until it works\n",
    "\n",
    "import matplotlib.pyplot as plt\n",
    "import numpy as np\n",
    "import matplotlib.animation\n",
    "\n",
    "f = plt.figure()\n",
    "ax = f.gca()\n",
    "\n",
    "image = plt.imshow(true_episode[0].numpy(), interpolation='None', animated=True)\n",
    "\n",
    "def function_for_animation(frame_index):\n",
    "    image.set_data(reconstruct_episode[frame_index+1].numpy())\n",
    "    ax.set_title('frame: {}, r: {:.2f}, total reward: {:.2f}'.format(frame_index, true_r[frame_index+1], true_total_r[frame_index+1]))\n",
    "    return image,\n",
    "\n",
    "ani = matplotlib.animation.FuncAnimation(f, function_for_animation, interval=40, frames=len(true_episode), blit=True)\n",
    "'''"
   ]
  },
  {
   "cell_type": "markdown",
   "metadata": {},
   "source": [
    "## Return Plot for Controller"
   ]
  },
  {
   "cell_type": "code",
   "execution_count": 15,
   "metadata": {},
   "outputs": [
    {
     "name": "stdout",
     "output_type": "stream",
     "text": [
      "4\n"
     ]
    }
   ],
   "source": [
    "eager_filepath = os.path.join('results/{}/{}/log/{}.cma.16.4.eval_hist.json'.format(args.exp_name, args.env_name, args.env_name))\n",
    "og_filepath = os.path.join('results/og/log', 'carracing.cma.16.64.hist_best.json')\n",
    "with open(eager_filepath, 'r') as f:\n",
    "  eager_data = json.load(f)\n",
    "with open(og_filepath, 'r') as f:\n",
    "  og_data = json.load(f)\n",
    "\n",
    "eager_data = np.array(eager_data)\n",
    "og_data = np.array(og_data)\n",
    "\n",
    "eager_comparison_max = eager_data[-1, 0] # b/c we didnt run for 2k\n",
    "og_max_idx = np.sum(np.array(og_data[: ,0],dtype=np.float) <= eager_comparison_max)\n",
    "print(og_max_idx)\n",
    "\n",
    "og_data = np.array(og_data)[:og_max_idx]"
   ]
  },
  {
   "cell_type": "code",
   "execution_count": 16,
   "metadata": {},
   "outputs": [
    {
     "data": {
      "text/plain": [
       "<matplotlib.legend.Legend at 0x7f38b8459668>"
      ]
     },
     "execution_count": 16,
     "metadata": {},
     "output_type": "execute_result"
    },
    {
     "data": {
      "image/png": "[encoded data removed]",
      "text/plain": [
       "<Figure size 432x288 with 1 Axes>"
      ]
     },
     "metadata": {
      "needs_background": "light"
     },
     "output_type": "display_data"
    }
   ],
   "source": [
    "%matplotlib inline\n",
    "\n",
    "eager_x = eager_data[:, 0]\n",
    "eager_ret = eager_data[:, 1]\n",
    "eager_std = eager_data[:, 2]\n",
    "\n",
    "og_x = np.array(og_data[:, 0], dtype=np.float)\n",
    "og_ret = np.array(og_data[:, 5], dtype=np.float)\n",
    "# don't have access to standard deviation of the og evaluation\n",
    "\n",
    "plt.figure()\n",
    "plt.plot(eager_x, eager_ret)\n",
    "plt.fill_between(eager_x, eager_ret-eager_std, eager_ret+eager_std, alpha=0.2)\n",
    "plt.plot(og_x, og_ret)\n",
    "\n",
    "plt.title('CarRacing-v0')\n",
    "plt.ylabel('avg. episode reward')\n",
    "plt.xlabel('generation')\n",
    "plt.legend(['eager', 'D. Ha original'])"
   ]
  },
  {
   "cell_type": "code",
   "execution_count": null,
   "metadata": {},
   "outputs": [],
   "source": []
  }
 ],
 "metadata": {
  "kernelspec": {
   "display_name": "Python 3",
   "language": "python",
   "name": "python3"
  },
  "language_info": {
   "codemirror_mode": {
    "name": "ipython",
    "version": 3
   },
   "file_extension": ".py",
   "mimetype": "text/x-python",
   "name": "python",
   "nbconvert_exporter": "python",
   "pygments_lexer": "ipython3",
   "version": "3.8.3"
  }
 },
 "nbformat": 4,
 "nbformat_minor": 2
}
